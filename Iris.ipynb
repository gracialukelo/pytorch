{
  "nbformat": 4,
  "nbformat_minor": 0,
  "metadata": {
    "colab": {
      "provenance": [],
      "gpuType": "T4",
      "authorship_tag": "ABX9TyNNwbheCEEP8bRQbdBdv1MH",
      "include_colab_link": true
    },
    "kernelspec": {
      "name": "python3",
      "display_name": "Python 3"
    },
    "language_info": {
      "name": "python"
    },
    "accelerator": "GPU"
  },
  "cells": [
    {
      "cell_type": "markdown",
      "metadata": {
        "id": "view-in-github",
        "colab_type": "text"
      },
      "source": [
        "<a href=\"https://colab.research.google.com/github/gracialukelo/pytorch/blob/main/Iris.ipynb\" target=\"_parent\"><img src=\"https://colab.research.google.com/assets/colab-badge.svg\" alt=\"Open In Colab\"/></a>"
      ]
    },
    {
      "cell_type": "code",
      "execution_count": 86,
      "metadata": {
        "id": "AATCNY2G3ndB"
      },
      "outputs": [],
      "source": [
        "import torch\n",
        "import torch.nn as nn\n",
        "import torch.nn.functional as F\n",
        "import pandas as pd\n",
        "from torch.utils.data import DataLoader, TensorDataset\n",
        "from sklearn.model_selection import train_test_split\n",
        "import matplotlib.pyplot as plt"
      ]
    },
    {
      "cell_type": "code",
      "source": [
        "# Definiere das Modell für das Iris-Datenset\n",
        "class IrisModel(nn.Module):\n",
        "    def __init__(self, in_features=4, h1=8, h2=9, out_features=3):\n",
        "        super(IrisModel, self).__init__()\n",
        "        self.fc1 = nn.Linear(in_features, h1)\n",
        "        self.fc2 = nn.Linear(h1, h2)\n",
        "        self.out = nn.Linear(h2, out_features)\n",
        "\n",
        "    def forward(self, x):\n",
        "        x = F.relu(self.fc1(x))\n",
        "        x = F.relu(self.fc2(x))\n",
        "        x = self.out(x)\n",
        "        return x"
      ],
      "metadata": {
        "id": "IOb4VimR3yCP"
      },
      "execution_count": 87,
      "outputs": []
    },
    {
      "cell_type": "code",
      "source": [
        "# Trainingsfunktion für das Modell\n",
        "def train(model, criterion, optimizer, train_loader, val_loader, num_epochs, save_path='best_model.pth'):\n",
        "    losses = []\n",
        "    val_losses = []\n",
        "    for epoch in range(num_epochs):\n",
        "        model.train()\n",
        "        running_loss = 0.0\n",
        "        correct_predictions = 0\n",
        "        total_samples = 0\n",
        "\n",
        "        for x, y in train_loader:\n",
        "            optimizer.zero_grad()\n",
        "            outputs = model(x)\n",
        "            loss = criterion(outputs, y)\n",
        "            losses.append(loss.item())\n",
        "            loss.backward()\n",
        "            optimizer.step()\n",
        "\n",
        "            _, predicted = outputs.max(1)\n",
        "            correct_predictions += (predicted == y).sum().item()\n",
        "            total_samples += y.size(0)\n",
        "            running_loss += loss.item()\n",
        "\n",
        "        accuracy = correct_predictions / total_samples * 100\n",
        "\n",
        "\n",
        "        # Validierung nach jeder Epoche\n",
        "        val_loss, val_accuracy = evaluate(model, criterion, val_loader)\n",
        "        val_losses.append(val_loss)\n",
        "\n",
        "        # Speichern des Modells, wenn die Genauigkeit über 90% liegt\n",
        "        if val_accuracy > 90:\n",
        "            torch.save(model.state_dict(), save_path)\n",
        "            print(f\"Model saved with Validation Accuracy: {val_accuracy:.2f}%\")\n",
        "            break\n",
        "\n",
        "        # Ausgabe von Verlust und Genauigkeit\n",
        "        if (epoch + 1) % 10 == 0:\n",
        "            print(f\"Epoch: {epoch+1}, Loss: {running_loss / len(train_loader):.4f}, Accuracy: {accuracy:.2f}%\")\n",
        "            print(f\"Validation Loss: {val_loss:.4f}, Validation Accuracy: {val_accuracy:.2f}%\")\n",
        "\n",
        "    return losses, val_losses"
      ],
      "metadata": {
        "id": "vUt7a7IjLyxk"
      },
      "execution_count": 88,
      "outputs": []
    },
    {
      "cell_type": "code",
      "source": [
        "# Evaluierungsfunktion für das Modell (nur auf Validierungsdaten)\n",
        "def evaluate(model, criterion, val_loader):\n",
        "    model.eval()\n",
        "    correct = 0\n",
        "    total = 0\n",
        "    running_loss = 0.0\n",
        "    with torch.no_grad():\n",
        "        for x, y in val_loader:\n",
        "            outputs = model(x)\n",
        "            loss = criterion(outputs, y)\n",
        "            running_loss += loss.item()\n",
        "            _, predicted = outputs.max(1)\n",
        "            total += y.size(0)\n",
        "            correct += (predicted == y).sum().item()\n",
        "    accuracy = correct / total * 100\n",
        "    avg_loss = running_loss / len(val_loader)\n",
        "    return avg_loss, accuracy"
      ],
      "metadata": {
        "id": "uqNi2BMHL3DI"
      },
      "execution_count": 89,
      "outputs": []
    },
    {
      "cell_type": "code",
      "source": [
        "# Funktion zum Laden und Vorhersagen mit dem gespeicherten Modell\n",
        "def load_and_predict(model, input_data, load_path='best_model.pth'):\n",
        "    model.load_state_dict(torch.load(load_path))\n",
        "    model.eval()\n",
        "    with torch.no_grad():\n",
        "        output = model(input_data)\n",
        "        _, prediction = output.max(1)\n",
        "    return prediction"
      ],
      "metadata": {
        "id": "KZU4iUHDL9Ar"
      },
      "execution_count": 90,
      "outputs": []
    },
    {
      "cell_type": "code",
      "source": [
        "# Funktion zum Abrufen der Daten\n",
        "def get_data(url):\n",
        "    my_df = pd.read_csv(url)\n",
        "    return my_df\n",
        "\n",
        "# Zielspalte in Ganzzahlen konvertieren\n",
        "def str_to_int(my_df):\n",
        "    my_df[\"variety\"] = my_df[\"variety\"].replace(\"Setosa\", 0)\n",
        "    my_df['variety'] = my_df['variety'].replace('Versicolor', 1)\n",
        "    my_df['variety'] = my_df['variety'].replace('Virginica', 2)\n",
        "    return my_df\n",
        "\n",
        "# Trainings- und Validierungsdaten aufteilen\n",
        "def train_val_test_split(my_df):\n",
        "    X = my_df.drop('variety', axis=1).values\n",
        "    y = my_df['variety'].values\n",
        "    X_train, X_temp, y_train, y_temp = train_test_split(X, y, test_size=0.3, random_state=41)\n",
        "    X_val, X_test, y_val, y_test = train_test_split(X_temp, y_temp, test_size=0.5, random_state=41)\n",
        "\n",
        "    X_train = torch.FloatTensor(X_train)\n",
        "    X_val = torch.FloatTensor(X_val)\n",
        "    X_test = torch.FloatTensor(X_test)\n",
        "    y_train = torch.LongTensor(y_train)\n",
        "    y_val = torch.LongTensor(y_val)\n",
        "    y_test = torch.LongTensor(y_test)\n",
        "\n",
        "    return X_train, X_val, X_test, y_train, y_val, y_test"
      ],
      "metadata": {
        "id": "V8mgiB5sMFWZ"
      },
      "execution_count": 91,
      "outputs": []
    },
    {
      "cell_type": "code",
      "source": [
        "# Hauptteil\n",
        "url = 'https://gist.githubusercontent.com/netj/8836201/raw/6f9306ad21398ea43cba4f7d537619d0e07d5ae3/iris.csv'\n",
        "df = get_data(url)\n",
        "df = str_to_int(df)\n",
        "\n",
        "X_train, X_val, X_test, y_train, y_val, y_test = train_val_test_split(df)\n",
        "\n",
        "train_dataset = TensorDataset(X_train, y_train)\n",
        "val_dataset = TensorDataset(X_val, y_val)\n",
        "test_dataset = TensorDataset(X_test, y_test)\n",
        "\n",
        "train_loader = DataLoader(train_dataset, batch_size=10, shuffle=True)\n",
        "val_loader = DataLoader(val_dataset, batch_size=10, shuffle=False)\n",
        "test_loader = DataLoader(test_dataset, batch_size=10, shuffle=False)"
      ],
      "metadata": {
        "colab": {
          "base_uri": "https://localhost:8080/"
        },
        "id": "XWv_t9x7MQIg",
        "outputId": "2d02867b-fe36-4208-8128-0498667b2201"
      },
      "execution_count": 92,
      "outputs": [
        {
          "output_type": "stream",
          "name": "stderr",
          "text": [
            "<ipython-input-91-1904c86db0cd>:10: FutureWarning: Downcasting behavior in `replace` is deprecated and will be removed in a future version. To retain the old behavior, explicitly call `result.infer_objects(copy=False)`. To opt-in to the future behavior, set `pd.set_option('future.no_silent_downcasting', True)`\n",
            "  my_df['variety'] = my_df['variety'].replace('Virginica', 2)\n"
          ]
        }
      ]
    },
    {
      "cell_type": "code",
      "source": [
        "torch.manual_seed(41)\n",
        "model = IrisModel()\n",
        "criterion = nn.CrossEntropyLoss()\n",
        "optimizer = torch.optim.Adam(model.parameters(), lr=0.01)\n",
        "\n",
        "num_epochs = 100\n",
        "train_losses, val_losses = train(model, criterion, optimizer, train_loader, val_loader, num_epochs)"
      ],
      "metadata": {
        "colab": {
          "base_uri": "https://localhost:8080/"
        },
        "id": "M5PRVqGUMZeE",
        "outputId": "62dd17d5-1cd1-44b2-96e3-4affac506ba5"
      },
      "execution_count": 93,
      "outputs": [
        {
          "output_type": "stream",
          "name": "stdout",
          "text": [
            "Model saved with Validation Accuracy: 100.00%\n"
          ]
        }
      ]
    },
    {
      "cell_type": "code",
      "source": [
        "# Endgültige Evaluierung mit Testdaten\n",
        "test_loss, test_accuracy = evaluate(model, criterion, test_loader)\n",
        "print(f\"Test Loss: {test_loss:.4f}, Test Accuracy: {test_accuracy:.2f}%\")"
      ],
      "metadata": {
        "colab": {
          "base_uri": "https://localhost:8080/"
        },
        "id": "UuK1uzQPMcSB",
        "outputId": "48b28dbd-c656-48cc-a5aa-dccf3c4afd9c"
      },
      "execution_count": 94,
      "outputs": [
        {
          "output_type": "stream",
          "name": "stdout",
          "text": [
            "Test Loss: 0.4383, Test Accuracy: 91.30%\n"
          ]
        }
      ]
    },
    {
      "cell_type": "code",
      "source": [
        "# Plot der Trainings- und Validierungsverluste\n",
        "plt.plot(range(len(train_losses)), train_losses, label=\"Training Loss\")\n",
        "plt.plot(range(len(val_losses)), val_losses, label=\"Validation Loss\")\n",
        "plt.ylabel(\"Loss/Error\")\n",
        "plt.xlabel(\"Iterations\")\n",
        "plt.title(\"Training and Validation Loss Over Time\")\n",
        "plt.legend()\n",
        "plt.show()"
      ],
      "metadata": {
        "colab": {
          "base_uri": "https://localhost:8080/",
          "height": 472
        },
        "id": "CB282pLPMgKb",
        "outputId": "457930dd-2fbc-45af-d2bb-d80540788600"
      },
      "execution_count": 95,
      "outputs": [
        {
          "output_type": "display_data",
          "data": {
            "text/plain": [
              "<Figure size 640x480 with 1 Axes>"
            ],
            "image/png": "[encoded data removed]"
          },
          "metadata": {}
        }
      ]
    },
    {
      "cell_type": "code",
      "source": [
        "# Modell laden und Vorhersage durchführen\n",
        "sample_input = X_test[:5]  # Beispiel-Daten zum Testen\n",
        "predictions = load_and_predict(model, sample_input)\n",
        "print(\"Sample Predictions:\", predictions)\n"
      ],
      "metadata": {
        "colab": {
          "base_uri": "https://localhost:8080/"
        },
        "id": "H723RtAQMone",
        "outputId": "f4d88205-c0ff-42f9-9254-d844093cdd86"
      },
      "execution_count": 85,
      "outputs": [
        {
          "output_type": "stream",
          "name": "stdout",
          "text": [
            "Sample Predictions: tensor([0, 2, 2, 2, 1])\n"
          ]
        },
        {
          "output_type": "stream",
          "name": "stderr",
          "text": [
            "<ipython-input-79-5b55b9c1f30e>:3: FutureWarning: You are using `torch.load` with `weights_only=False` (the current default value), which uses the default pickle module implicitly. It is possible to construct malicious pickle data which will execute arbitrary code during unpickling (See https://github.com/pytorch/pytorch/blob/main/SECURITY.md#untrusted-models for more details). In a future release, the default value for `weights_only` will be flipped to `True`. This limits the functions that could be executed during unpickling. Arbitrary objects will no longer be allowed to be loaded via this mode unless they are explicitly allowlisted by the user via `torch.serialization.add_safe_globals`. We recommend you start setting `weights_only=True` for any use case where you don't have full control of the loaded file. Please open an issue on GitHub for any issues related to this experimental feature.\n",
            "  model.load_state_dict(torch.load(load_path))\n"
          ]
        }
      ]
    },
    {
      "cell_type": "code",
      "source": [],
      "metadata": {
        "id": "_rrSEO9KNgi5"
      },
      "execution_count": null,
      "outputs": []
    }
  ]
}